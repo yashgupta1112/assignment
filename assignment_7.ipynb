{
  "nbformat": 4,
  "nbformat_minor": 0,
  "metadata": {
    "colab": {
      "name": "assignment_7.ipynb ",
      "version": "0.3.2",
      "provenance": [],
      "collapsed_sections": [],
      "include_colab_link": true
    },
    "kernelspec": {
      "name": "python2",
      "display_name": "Python 2"
    }
  },
  "cells": [
    {
      "cell_type": "markdown",
      "metadata": {
        "id": "view-in-github",
        "colab_type": "text"
      },
      "source": [
        "[View in Colaboratory](https://colab.research.google.com/github/yashgupta1112/assignment/blob/master/assignment_7.ipynb)"
      ]
    },
    {
      "metadata": {
        "id": "3MjBChbk53ol",
        "colab_type": "code",
        "colab": {
          "base_uri": "https://localhost:8080/",
          "height": 34
        },
        "outputId": "fda2b1f1-8fb7-4a01-ffcd-fb02e1be9d70"
      },
      "cell_type": "code",
      "source": [
        "#Question 1\n",
        "pA=0.30\n",
        "pB=0.16\n",
        "pAifB=0.05\n",
        "pBifA=(pAifB*pB)/pA\n",
        "print(pBifA)"
      ],
      "execution_count": 0,
      "outputs": [
        {
          "output_type": "stream",
          "text": [
            "0.0266666666667\n"
          ],
          "name": "stdout"
        }
      ]
    },
    {
      "metadata": {
        "id": "K5NVWHxQ8rYL",
        "colab_type": "code",
        "colab": {
          "base_uri": "https://localhost:8080/",
          "height": 34
        },
        "outputId": "372392eb-64ca-4eaa-c4bb-73572d08a7ad"
      },
      "cell_type": "code",
      "source": [
        "#Question 2\n",
        "bag1=1.0/2 #probability of selecting bag1\n",
        "bag2=1.0/2 #probability of selecting bag2\n",
        "black1=6.0/10 #probability of selecting black ball from bag1\n",
        "black2=3.0/7 #probability of selecting black ball from bag2\n",
        "pblack1=(bag1*black1)/((bag1*black1)+(bag2*black2))\n",
        "print(pblack1)\n"
      ],
      "execution_count": 1,
      "outputs": [
        {
          "output_type": "stream",
          "text": [
            "0.583333333333\n"
          ],
          "name": "stdout"
        }
      ]
    },
    {
      "metadata": {
        "id": "cPtpjAvBfxzb",
        "colab_type": "code",
        "colab": {
          "base_uri": "https://localhost:8080/",
          "height": 34
        },
        "outputId": "577cdcb2-50a1-4b55-f67e-b6c41728be5f"
      },
      "cell_type": "code",
      "source": [
        "#Question 3\n",
        "truth=2.0/3 #probability of speaking truth\n",
        "lie=1.0/3 #probability of speaking lie\n",
        "p4=1.0/6 #probability of number obtained is 4\n",
        "pn4=5.0/6 #probability of number obtained is not 4\n",
        "probab=(truth*p4)/((truth*p4)+(lie*pn4))\n",
        "print(probab)"
      ],
      "execution_count": 2,
      "outputs": [
        {
          "output_type": "stream",
          "text": [
            "0.285714285714\n"
          ],
          "name": "stdout"
        }
      ]
    },
    {
      "metadata": {
        "id": "HGa5Fhm7j-sV",
        "colab_type": "code",
        "colab": {}
      },
      "cell_type": "code",
      "source": [
        ""
      ],
      "execution_count": 0,
      "outputs": []
    }
  ]
}