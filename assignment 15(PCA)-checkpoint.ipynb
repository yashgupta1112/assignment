{
 "cells": [
  {
   "cell_type": "code",
   "execution_count": 35,
   "metadata": {},
   "outputs": [],
   "source": [
    "#Question 1\n",
    "from sklearn import datasets\n",
    "from sklearn import metrics\n",
    "from sklearn.datasets import load_digits\n",
    "import pandas as pd"
   ]
  },
  {
   "cell_type": "code",
   "execution_count": 36,
   "metadata": {},
   "outputs": [],
   "source": [
    "digit=load_digits()\n",
    "x=digit.data\n",
    "y=digit.target"
   ]
  },
  {
   "cell_type": "code",
   "execution_count": null,
   "metadata": {},
   "outputs": [],
   "source": []
  },
  {
   "cell_type": "code",
   "execution_count": 37,
   "metadata": {},
   "outputs": [
    {
     "data": {
      "text/plain": [
       "array([[ 0.        , -0.33501649, -0.04308102, ..., -1.14664746,\n",
       "        -0.5056698 , -0.19600752],\n",
       "       [ 0.        , -0.33501649, -1.09493684, ...,  0.54856067,\n",
       "        -0.5056698 , -0.19600752],\n",
       "       [ 0.        , -0.33501649, -1.09493684, ...,  1.56568555,\n",
       "         1.6951369 , -0.19600752],\n",
       "       ...,\n",
       "       [ 0.        , -0.33501649, -0.88456568, ..., -0.12952258,\n",
       "        -0.5056698 , -0.19600752],\n",
       "       [ 0.        , -0.33501649, -0.67419451, ...,  0.8876023 ,\n",
       "        -0.5056698 , -0.19600752],\n",
       "       [ 0.        , -0.33501649,  1.00877481, ...,  0.8876023 ,\n",
       "        -0.26113572, -0.19600752]])"
      ]
     },
     "execution_count": 37,
     "metadata": {},
     "output_type": "execute_result"
    }
   ],
   "source": [
    "#Question 2\n",
    "from sklearn.preprocessing import StandardScaler\n",
    "x_std=StandardScaler().fit_transform(x)\n",
    "x_std"
   ]
  },
  {
   "cell_type": "code",
   "execution_count": 38,
   "metadata": {},
   "outputs": [
    {
     "data": {
      "text/plain": [
       "PCA(copy=True, iterated_power='auto', n_components=8, random_state=None,\n",
       "  svd_solver='auto', tol=0.0, whiten=False)"
      ]
     },
     "execution_count": 38,
     "metadata": {},
     "output_type": "execute_result"
    }
   ],
   "source": [
    "#Question 4\n",
    "from sklearn.decomposition import PCA\n",
    "pca=PCA(n_components=8)\n",
    "pca"
   ]
  },
  {
   "cell_type": "code",
   "execution_count": 39,
   "metadata": {},
   "outputs": [
    {
     "data": {
      "text/plain": [
       "array([[ 1.91438929, -0.95495398, -3.94647467, ...,  0.51744093,\n",
       "        -1.40873716,  1.54288604],\n",
       "       [ 0.58895004,  0.92439013,  3.92752931, ..., -0.65638536,\n",
       "         1.88180876,  0.54948096],\n",
       "       [ 1.30241169, -0.31671098,  3.02311234, ...,  0.9502195 ,\n",
       "        -1.31028425,  1.16660813],\n",
       "       ...,\n",
       "       [ 1.0229861 , -0.14821624,  2.46492076, ..., -0.0411513 ,\n",
       "         0.34533473,  0.58021209],\n",
       "       [ 1.0760681 , -0.38139389, -2.45923158, ..., -0.66941155,\n",
       "         1.00640527,  0.76660679],\n",
       "       [-1.25783973, -2.22572842,  0.27479451, ...,  2.29118793,\n",
       "        -0.40236113, -1.19807113]])"
      ]
     },
     "execution_count": 39,
     "metadata": {},
     "output_type": "execute_result"
    }
   ],
   "source": [
    "principalComponents=pca.fit_transform(x_std)\n",
    "principalComponents"
   ]
  },
  {
   "cell_type": "code",
   "execution_count": 40,
   "metadata": {},
   "outputs": [
    {
     "data": {
      "text/html": [
       "<div>\n",
       "<style scoped>\n",
       "    .dataframe tbody tr th:only-of-type {\n",
       "        vertical-align: middle;\n",
       "    }\n",
       "\n",
       "    .dataframe tbody tr th {\n",
       "        vertical-align: top;\n",
       "    }\n",
       "\n",
       "    .dataframe thead th {\n",
       "        text-align: right;\n",
       "    }\n",
       "</style>\n",
       "<table border=\"1\" class=\"dataframe\">\n",
       "  <thead>\n",
       "    <tr style=\"text-align: right;\">\n",
       "      <th></th>\n",
       "      <th>principal component=1</th>\n",
       "      <th>principal component=2</th>\n",
       "      <th>principal component=3</th>\n",
       "      <th>principal component=4</th>\n",
       "      <th>principal component=5</th>\n",
       "      <th>principal component=6</th>\n",
       "      <th>principal component=7</th>\n",
       "      <th>principal component=8</th>\n",
       "    </tr>\n",
       "  </thead>\n",
       "  <tbody>\n",
       "    <tr>\n",
       "      <th>0</th>\n",
       "      <td>1.914389</td>\n",
       "      <td>-0.954954</td>\n",
       "      <td>-3.946475</td>\n",
       "      <td>2.027966</td>\n",
       "      <td>-0.261831</td>\n",
       "      <td>0.517441</td>\n",
       "      <td>-1.408737</td>\n",
       "      <td>1.542886</td>\n",
       "    </tr>\n",
       "    <tr>\n",
       "      <th>1</th>\n",
       "      <td>0.588950</td>\n",
       "      <td>0.924390</td>\n",
       "      <td>3.927529</td>\n",
       "      <td>-1.778736</td>\n",
       "      <td>-0.999338</td>\n",
       "      <td>-0.656385</td>\n",
       "      <td>1.881809</td>\n",
       "      <td>0.549481</td>\n",
       "    </tr>\n",
       "    <tr>\n",
       "      <th>2</th>\n",
       "      <td>1.302412</td>\n",
       "      <td>-0.316711</td>\n",
       "      <td>3.023112</td>\n",
       "      <td>-2.042473</td>\n",
       "      <td>-2.076433</td>\n",
       "      <td>0.950219</td>\n",
       "      <td>-1.310284</td>\n",
       "      <td>1.166608</td>\n",
       "    </tr>\n",
       "    <tr>\n",
       "      <th>3</th>\n",
       "      <td>-3.020910</td>\n",
       "      <td>-0.869328</td>\n",
       "      <td>-0.797573</td>\n",
       "      <td>-2.185908</td>\n",
       "      <td>-0.560414</td>\n",
       "      <td>0.747089</td>\n",
       "      <td>0.980624</td>\n",
       "      <td>-1.384003</td>\n",
       "    </tr>\n",
       "    <tr>\n",
       "      <th>4</th>\n",
       "      <td>4.529441</td>\n",
       "      <td>-1.094896</td>\n",
       "      <td>0.973764</td>\n",
       "      <td>-1.419540</td>\n",
       "      <td>-1.696539</td>\n",
       "      <td>1.416615</td>\n",
       "      <td>1.072931</td>\n",
       "      <td>-0.896486</td>\n",
       "    </tr>\n",
       "    <tr>\n",
       "      <th>5</th>\n",
       "      <td>-1.302579</td>\n",
       "      <td>-1.148399</td>\n",
       "      <td>-1.575602</td>\n",
       "      <td>-2.416184</td>\n",
       "      <td>-0.647502</td>\n",
       "      <td>0.714077</td>\n",
       "      <td>1.337597</td>\n",
       "      <td>0.424707</td>\n",
       "    </tr>\n",
       "    <tr>\n",
       "      <th>6</th>\n",
       "      <td>1.434629</td>\n",
       "      <td>-2.960179</td>\n",
       "      <td>2.835118</td>\n",
       "      <td>-0.075342</td>\n",
       "      <td>0.522121</td>\n",
       "      <td>0.031176</td>\n",
       "      <td>0.976072</td>\n",
       "      <td>-0.716599</td>\n",
       "    </tr>\n",
       "    <tr>\n",
       "      <th>7</th>\n",
       "      <td>0.614347</td>\n",
       "      <td>5.462807</td>\n",
       "      <td>0.655350</td>\n",
       "      <td>0.432428</td>\n",
       "      <td>0.861098</td>\n",
       "      <td>-0.980264</td>\n",
       "      <td>-1.823448</td>\n",
       "      <td>-2.062811</td>\n",
       "    </tr>\n",
       "    <tr>\n",
       "      <th>8</th>\n",
       "      <td>-1.097840</td>\n",
       "      <td>-0.665365</td>\n",
       "      <td>-0.049682</td>\n",
       "      <td>-1.104937</td>\n",
       "      <td>-0.872005</td>\n",
       "      <td>0.692316</td>\n",
       "      <td>-1.022845</td>\n",
       "      <td>-0.299163</td>\n",
       "    </tr>\n",
       "    <tr>\n",
       "      <th>9</th>\n",
       "      <td>-0.538562</td>\n",
       "      <td>-0.777471</td>\n",
       "      <td>-1.572384</td>\n",
       "      <td>-0.762535</td>\n",
       "      <td>-0.131692</td>\n",
       "      <td>-0.634736</td>\n",
       "      <td>0.684347</td>\n",
       "      <td>-0.167756</td>\n",
       "    </tr>\n",
       "  </tbody>\n",
       "</table>\n",
       "</div>"
      ],
      "text/plain": [
       "   principal component=1  principal component=2  principal component=3  \\\n",
       "0               1.914389              -0.954954              -3.946475   \n",
       "1               0.588950               0.924390               3.927529   \n",
       "2               1.302412              -0.316711               3.023112   \n",
       "3              -3.020910              -0.869328              -0.797573   \n",
       "4               4.529441              -1.094896               0.973764   \n",
       "5              -1.302579              -1.148399              -1.575602   \n",
       "6               1.434629              -2.960179               2.835118   \n",
       "7               0.614347               5.462807               0.655350   \n",
       "8              -1.097840              -0.665365              -0.049682   \n",
       "9              -0.538562              -0.777471              -1.572384   \n",
       "\n",
       "   principal component=4  principal component=5  principal component=6  \\\n",
       "0               2.027966              -0.261831               0.517441   \n",
       "1              -1.778736              -0.999338              -0.656385   \n",
       "2              -2.042473              -2.076433               0.950219   \n",
       "3              -2.185908              -0.560414               0.747089   \n",
       "4              -1.419540              -1.696539               1.416615   \n",
       "5              -2.416184              -0.647502               0.714077   \n",
       "6              -0.075342               0.522121               0.031176   \n",
       "7               0.432428               0.861098              -0.980264   \n",
       "8              -1.104937              -0.872005               0.692316   \n",
       "9              -0.762535              -0.131692              -0.634736   \n",
       "\n",
       "   principal component=7  principal component=8  \n",
       "0              -1.408737               1.542886  \n",
       "1               1.881809               0.549481  \n",
       "2              -1.310284               1.166608  \n",
       "3               0.980624              -1.384003  \n",
       "4               1.072931              -0.896486  \n",
       "5               1.337597               0.424707  \n",
       "6               0.976072              -0.716599  \n",
       "7              -1.823448              -2.062811  \n",
       "8              -1.022845              -0.299163  \n",
       "9               0.684347              -0.167756  "
      ]
     },
     "execution_count": 40,
     "metadata": {},
     "output_type": "execute_result"
    }
   ],
   "source": [
    "principalDataset=pd.DataFrame(data=principalComponents,columns=['principal component=1','principal component=2'\n",
    "                                                               ,'principal component=3','principal component=4'\n",
    "                                                               ,'principal component=5','principal component=6'\n",
    "                                                               ,'principal component=7','principal component=8'])\n",
    "principalDataset.head(10)"
   ]
  },
  {
   "cell_type": "code",
   "execution_count": 41,
   "metadata": {},
   "outputs": [
    {
     "data": {
      "text/plain": [
       "array([0.12033916, 0.09561053, 0.08444397, 0.06498405, 0.04859794,\n",
       "       0.0421324 , 0.0394129 , 0.03385804])"
      ]
     },
     "execution_count": 41,
     "metadata": {},
     "output_type": "execute_result"
    }
   ],
   "source": [
    "pca.explained_variance_ratio_"
   ]
  },
  {
   "cell_type": "code",
   "execution_count": 42,
   "metadata": {},
   "outputs": [
    {
     "data": {
      "text/plain": [
       "((1257, 64), (1257,))"
      ]
     },
     "execution_count": 42,
     "metadata": {},
     "output_type": "execute_result"
    }
   ],
   "source": [
    "#Question 3\n",
    "from sklearn.model_selection import train_test_split\n",
    "principalDataset_train,principalDataset_test,y_train,y_test = train_test_split(principalDataset,y,test_size = 0.3)\n",
    "x_train.shape,y_train.shape"
   ]
  },
  {
   "cell_type": "code",
   "execution_count": 43,
   "metadata": {},
   "outputs": [
    {
     "data": {
      "text/plain": [
       "LogisticRegression(C=1.0, class_weight=None, dual=False, fit_intercept=True,\n",
       "          intercept_scaling=1, max_iter=100, multi_class='ovr', n_jobs=1,\n",
       "          penalty='l2', random_state=None, solver='liblinear', tol=0.0001,\n",
       "          verbose=0, warm_start=False)"
      ]
     },
     "execution_count": 43,
     "metadata": {},
     "output_type": "execute_result"
    }
   ],
   "source": [
    "#Question 5\n",
    "from sklearn.linear_model import LogisticRegression\n",
    "regression=LogisticRegression()\n",
    "regression.fit(principalDataset_train,y_train)"
   ]
  },
  {
   "cell_type": "code",
   "execution_count": 44,
   "metadata": {},
   "outputs": [
    {
     "data": {
      "text/plain": [
       "array([7, 3, 6, 6, 3, 2, 1, 8, 5, 9, 3, 6, 3, 9, 5, 6, 2, 6, 1, 2, 8, 6,\n",
       "       8, 7, 7, 2, 1, 2, 7, 2, 2, 6, 3, 5, 5, 5, 9, 9, 8, 5, 5, 9, 3, 2,\n",
       "       4, 0, 8, 2, 2, 4, 9, 6, 4, 6, 3, 0, 5, 5, 5, 6, 9, 2, 5, 4, 0, 6,\n",
       "       0, 1, 6, 9, 9, 9, 1, 7, 5, 2, 5, 8, 7, 3, 9, 7, 7, 2, 4, 9, 6, 2,\n",
       "       0, 0, 4, 2, 7, 0, 4, 9, 5, 1, 3, 8, 3, 6, 4, 1, 5, 5, 0, 0, 0, 7,\n",
       "       4, 0, 1, 3, 4, 5, 6, 0, 1, 1, 6, 4, 9, 3, 5, 9, 6, 2, 5, 2, 5, 8,\n",
       "       3, 7, 6, 7, 3, 0, 8, 9, 1, 7, 0, 5, 7, 8, 2, 4, 5, 4, 9, 7, 6, 0,\n",
       "       0, 5, 3, 4, 4, 7, 7, 2, 5, 0, 7, 4, 9, 7, 6, 1, 0, 7, 0, 5, 7, 5,\n",
       "       7, 9, 1, 2, 7, 6, 7, 1, 9, 4, 1, 8, 4, 4, 0, 2, 2, 7, 4, 3, 1, 2,\n",
       "       9, 3, 5, 5, 6, 3, 8, 0, 0, 2, 2, 4, 9, 7, 2, 3, 2, 6, 5, 3, 9, 1,\n",
       "       0, 9, 9, 3, 5, 1, 4, 2, 5, 5, 1, 4, 7, 2, 2, 4, 5, 5, 2, 6, 0, 6,\n",
       "       7, 1, 5, 3, 4, 8, 7, 0, 1, 7, 6, 9, 4, 7, 8, 2, 8, 7, 2, 6, 7, 8,\n",
       "       0, 9, 4, 4, 2, 6, 2, 9, 6, 4, 4, 7, 4, 2, 1, 5, 2, 1, 9, 2, 6, 0,\n",
       "       8, 6, 9, 7, 5, 0, 9, 9, 9, 9, 4, 4, 9, 6, 3, 4, 9, 1, 8, 4, 3, 2,\n",
       "       3, 5, 3, 1, 0, 6, 1, 1, 4, 3, 6, 9, 4, 3, 3, 1, 9, 1, 6, 1, 5, 9,\n",
       "       5, 2, 5, 2, 6, 2, 1, 4, 5, 6, 7, 7, 4, 9, 9, 1, 5, 7, 5, 9, 0, 3,\n",
       "       5, 4, 3, 3, 6, 5, 0, 5, 9, 1, 4, 2, 3, 5, 1, 2, 0, 7, 8, 8, 0, 2,\n",
       "       2, 8, 5, 1, 5, 1, 2, 6, 1, 6, 1, 0, 6, 0, 3, 0, 6, 0, 3, 3, 8, 9,\n",
       "       1, 9, 1, 1, 0, 1, 3, 0, 2, 7, 3, 3, 9, 6, 0, 0, 5, 7, 6, 8, 7, 3,\n",
       "       1, 4, 5, 5, 6, 9, 6, 8, 6, 5, 9, 9, 9, 0, 8, 9, 3, 5, 2, 8, 3, 6,\n",
       "       0, 1, 1, 2, 1, 8, 8, 5, 0, 9, 2, 7, 0, 8, 4, 2, 2, 0, 8, 1, 7, 7,\n",
       "       3, 7, 1, 2, 9, 9, 1, 5, 0, 2, 5, 6, 9, 3, 5, 6, 4, 5, 7, 0, 4, 9,\n",
       "       7, 8, 5, 1, 2, 9, 5, 1, 3, 8, 4, 6, 9, 1, 7, 6, 1, 6, 4, 7, 4, 2,\n",
       "       5, 4, 7, 2, 7, 8, 6, 3, 2, 2, 6, 6, 7, 9, 8, 6, 3, 4, 3, 4, 8, 3,\n",
       "       0, 1, 6, 0, 7, 9, 9, 2, 6, 6, 5, 1])"
      ]
     },
     "execution_count": 44,
     "metadata": {},
     "output_type": "execute_result"
    }
   ],
   "source": [
    "pred=regression.predict(principalDataset_test)\n",
    "pred"
   ]
  },
  {
   "cell_type": "code",
   "execution_count": 45,
   "metadata": {},
   "outputs": [
    {
     "data": {
      "text/plain": [
       "0.85"
      ]
     },
     "execution_count": 45,
     "metadata": {},
     "output_type": "execute_result"
    }
   ],
   "source": [
    "#Question 6\n",
    "metrics.accuracy_score(pred,y_test)"
   ]
  },
  {
   "cell_type": "code",
   "execution_count": 46,
   "metadata": {},
   "outputs": [
    {
     "name": "stdout",
     "output_type": "stream",
     "text": [
      "[[50  0  0  0  2  0  1  0  0  0]\n",
      " [ 0 46  2  0  1  1  0  0  1  5]\n",
      " [ 0  3 55  0  0  0  0  1  1  0]\n",
      " [ 0  0  1 39  0  1  0  1  2  6]\n",
      " [ 0  0  1  0 46  2  0  0  0  0]\n",
      " [ 0  1  0  0  1 52  0  0  0  3]\n",
      " [ 0  1  0  0  0  0 57  0  0  0]\n",
      " [ 0  0  0  1  0  1  0 47  2  0]\n",
      " [ 0  3  2  5  1  3  1  1 27  7]\n",
      " [ 0  1  0  4  0  4  1  4  2 40]]\n"
     ]
    }
   ],
   "source": [
    "from sklearn.metrics import confusion_matrix\n",
    "print(confusion_matrix(y_test,pred))"
   ]
  },
  {
   "cell_type": "code",
   "execution_count": 47,
   "metadata": {},
   "outputs": [
    {
     "name": "stdout",
     "output_type": "stream",
     "text": [
      "             precision    recall  f1-score   support\n",
      "\n",
      "          0       1.00      0.94      0.97        53\n",
      "          1       0.84      0.82      0.83        56\n",
      "          2       0.90      0.92      0.91        60\n",
      "          3       0.80      0.78      0.79        50\n",
      "          4       0.90      0.94      0.92        49\n",
      "          5       0.81      0.91      0.86        57\n",
      "          6       0.95      0.98      0.97        58\n",
      "          7       0.87      0.92      0.90        51\n",
      "          8       0.77      0.54      0.64        50\n",
      "          9       0.66      0.71      0.68        56\n",
      "\n",
      "avg / total       0.85      0.85      0.85       540\n",
      "\n"
     ]
    }
   ],
   "source": [
    "from sklearn.metrics import classification_report\n",
    "print(classification_report(y_test,pred))"
   ]
  },
  {
   "cell_type": "code",
   "execution_count": null,
   "metadata": {},
   "outputs": [],
   "source": []
  },
  {
   "cell_type": "code",
   "execution_count": null,
   "metadata": {},
   "outputs": [],
   "source": []
  }
 ],
 "metadata": {
  "kernelspec": {
   "display_name": "Python 3",
   "language": "python",
   "name": "python3"
  },
  "language_info": {
   "codemirror_mode": {
    "name": "ipython",
    "version": 3
   },
   "file_extension": ".py",
   "mimetype": "text/x-python",
   "name": "python",
   "nbconvert_exporter": "python",
   "pygments_lexer": "ipython3",
   "version": "3.6.5"
  }
 },
 "nbformat": 4,
 "nbformat_minor": 2
}
